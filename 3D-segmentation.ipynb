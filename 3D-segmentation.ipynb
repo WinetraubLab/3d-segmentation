{
  "cells": [
    {
      "cell_type": "markdown",
      "metadata": {
        "id": "HY9XXRiwOWGR"
      },
      "source": [
        "<a href=\"https://colab.research.google.com/github/WinetraubLab/3D-segmentation/blob/05-08/3D-segmentation.ipynb\" target=\"_blank\">\n",
        "<img src=\"https://colab.research.google.com/assets/colab-badge.svg\" alt=\"Open in Colab\"/></a>\n",
        "<a href=\"https://github.com/WinetraubLab/3D-segmentation/blob/05-08/3D-segmentation.ipynb\" target=\"_blank\">\n",
        "  <img src=\"https://img.shields.io/badge/view%20in-GitHub-blue\" alt=\"View in GitHub\"/>\n",
        "</a>\n",
        "\n",
        "#   Segmentation with MedSAM2\n",
        "Use MedSAM2 to automatically detect classes and segment a stack of OCT images.\n",
        "\n",
        "Make sure to use a GPU runtime (T4 on Colab).\n",
        "> **Runtime → Change runtime type → GPU**  \n",
        "\n",
        "INPUTS:\n",
        "1. Roboflow dataset of OCT images with annotations. Each annotation mask is a complete segmentation of one instance of the specified class.\n",
        "2. Folder containing OCT images to be segmented using this script.\n",
        "\n",
        "OUTPUTS: A folder containing segmentation mask images for each frame.\n"
      ]
    },
    {
      "cell_type": "markdown",
      "metadata": {
        "id": "XcLPhcv2Zmim"
      },
      "source": [
        "## Setup and Dependencies"
      ]
    },
    {
      "cell_type": "code",
      "execution_count": null,
      "metadata": {
        "cellView": "form",
        "id": "B3L0KrM3OeLO"
      },
      "outputs": [],
      "source": [
        "!git clone -b 05-08 https://github.com/WinetraubLab/3D-segmentation.git \n",
        "!pip install -r 3D-segmentation/requirements.txt"
      ]
    },
    {
      "cell_type": "code",
      "execution_count": null,
      "metadata": {},
      "outputs": [],
      "source": [
        "!git clone https://github.com/bowang-lab/MedSAM2.git\n",
        "%cd MedSAM2\n",
        "!sh download.sh"
      ]
    },
    {
      "cell_type": "code",
      "execution_count": null,
      "metadata": {
        "id": "MlxD9TjNPVxX"
      },
      "outputs": [],
      "source": [
        "# @title Configuration and Dataset\n",
        "import os\n",
        "from roboflow import Roboflow\n",
        "from google.colab import files\n",
        "from google.colab import drive\n",
        "import pandas as pd\n",
        "\n",
        "import gspread\n",
        "from google.auth import default\n",
        "from google.auth.transport.requests import Request\n",
        "from google.auth.credentials import AnonymousCredentials\n",
        "\n",
        "import sys\n",
        "sys.path.append('/content/3D-segmentation') \n",
        "\n",
        "import import_data_from_roboflow, propagate_mask_medsam2\n",
        "\n",
        "drive.mount('/content/drive')\n",
        "\n",
        "# LOAD ROBOFLOW DATA\n",
        "# @markdown Enter the directory containing your image stack to segment:\n",
        "images_to_segment_path = \"/content/drive/Shareddrives/Yolab - Current Projects/_Datasets/2025-05-10 Automatic Segmentation/OCT_sequence\" # @param {type:\"string\"}\n",
        "\n",
        "if not os.path.isdir(images_to_segment_path):\n",
        "    raise NotADirectoryError(f\"‘{images_to_segment_path}’ is not a valid directory\")\n",
        "\n",
        "# @markdown **If loading segmentations from Roboflow:** Enter your Roboflow API key, and details of the dataset with your annotated images. Otherwise, leave this blank.\n",
        "workspace_name = \"yolab-kmmfx\"  # @param {type:\"string\"}\n",
        "project_name = \"vol1_2\"  # @param {type:\"string\"}\n",
        "\n",
        "# @markdown **If loading segmentations from folder:** Enter the path to the folder containing COCO .json file with annotation data. Otherwise, leave this blank.\n",
        "segmentation_data_path = \"/content/drive/Shareddrives/Yolab - Current Projects/_Datasets/2025-05-10 Automatic Segmentation/Sample_Roboflow_Dataset\"  # @param {type:\"string\"}\n",
        "\n",
        "if segmentation_data_path:\n",
        "    COCO_path, class_ids = import_data_from_roboflow.init_from_folder(segmentation_data_path)\n",
        "else:\n",
        "    # Get API key from credentials sheet to load data\n",
        "\n",
        "    # Authenticate using google-auth\n",
        "    creds, _ = default()\n",
        "    if creds and creds.expired and creds.refresh_token:\n",
        "        creds.refresh(Request())\n",
        "    # Authorize with gspread\n",
        "    gc = gspread.authorize(creds)\n",
        "\n",
        "    spreadsheet = gc.open(\"Credentials & Passwords\")\n",
        "    worksheet = spreadsheet.sheet1\n",
        "    data = worksheet.get_all_values()\n",
        "    data = data[1:]\n",
        "    df = pd.DataFrame(data)\n",
        "    api_row = df[df.apply(lambda row: row.astype(str).str.contains('Roboflow API Key').any(), axis=1)]\n",
        "    if not api_row.empty:\n",
        "        api_key = api_row.iloc[0, 1]\n",
        "        print(api_key)\n",
        "    else:\n",
        "        print(\"Could not find API key.\")\n",
        "    COCO_path, class_ids = import_data_from_roboflow.init_from_roboflow(workspace_name, project_name, your_api_key)\n",
        "\n",
        "OCT_BASE_PATH = images_to_segment_path\n",
        "\n",
        "MODEL_CONFIG = \"configs/sam2.1_hiera_t512.yaml\"\n",
        "MODEL_CHECKPOINT = \"checkpoints/MedSAM2_latest.pt\""
      ]
    },
    {
      "cell_type": "code",
      "execution_count": null,
      "metadata": {
        "id": "jwLhyGnCOWGe"
      },
      "outputs": [],
      "source": [
        "# @title Initialize and run model\n",
        "\n",
        "model = propagate_mask_medsam2.CustomMEDSAM2(MODEL_CONFIG, MODEL_CHECKPOINT)\n",
        "\n",
        "indiv_class_masks = []\n",
        "frame_names = None\n",
        "\n",
        "for class_id in class_ids:\n",
        "    class_mask, frame_names = model.propagate_sequence(images_to_segment_path, class_id, COCO_path)\n",
        "    indiv_class_masks.append(class_mask)"
      ]
    },
    {
      "cell_type": "code",
      "execution_count": null,
      "metadata": {
        "colab": {
          "base_uri": "https://localhost:8080/",
          "height": 1000
        },
        "id": "LcWcvwEQ_S6y",
        "outputId": "a1011674-66f4-4bf8-eded-a6abc165b4b3"
      },
      "outputs": [],
      "source": [
        "# @title Combine class masks\n",
        "output_dir = \"/content/final_masks/\"\n",
        "propagate_mask_medsam2.combine_class_masks(indiv_class_masks, frame_names, output_dir=output_dir, show=True)"
      ]
    },
    {
      "cell_type": "code",
      "execution_count": null,
      "metadata": {
        "colab": {
          "base_uri": "https://localhost:8080/",
          "height": 17
        },
        "id": "gpV4EPeqkP_-",
        "outputId": "9f1e8ac8-dcea-480a-ba4a-1d243c73f2a0"
      },
      "outputs": [
        {
          "data": {
            "application/javascript": "\n    async function download(id, filename, size) {\n      if (!google.colab.kernel.accessAllowed) {\n        return;\n      }\n      const div = document.createElement('div');\n      const label = document.createElement('label');\n      label.textContent = `Downloading \"${filename}\": `;\n      div.appendChild(label);\n      const progress = document.createElement('progress');\n      progress.max = size;\n      div.appendChild(progress);\n      document.body.appendChild(div);\n\n      const buffers = [];\n      let downloaded = 0;\n\n      const channel = await google.colab.kernel.comms.open(id);\n      // Send a message to notify the kernel that we're ready.\n      channel.send({})\n\n      for await (const message of channel.messages) {\n        // Send a message to notify the kernel that we're ready.\n        channel.send({})\n        if (message.buffers) {\n          for (const buffer of message.buffers) {\n            buffers.push(buffer);\n            downloaded += buffer.byteLength;\n            progress.value = downloaded;\n          }\n        }\n      }\n      const blob = new Blob(buffers, {type: 'application/binary'});\n      const a = document.createElement('a');\n      a.href = window.URL.createObjectURL(blob);\n      a.download = filename;\n      div.appendChild(a);\n      a.click();\n      div.remove();\n    }\n  ",
            "text/plain": [
              "<IPython.core.display.Javascript object>"
            ]
          },
          "metadata": {},
          "output_type": "display_data"
        },
        {
          "data": {
            "application/javascript": "download(\"download_44e9cf28-19b0-437a-bc4b-ead653c28ea8\", \"final_merged_segmentations.zip\", 22)",
            "text/plain": [
              "<IPython.core.display.Javascript object>"
            ]
          },
          "metadata": {},
          "output_type": "display_data"
        }
      ],
      "source": [
        "import shutil\n",
        "from google.colab import files\n",
        "\n",
        "folder_path = '/content/final_masks'\n",
        "zip_path = \"/content/final_merged_segmentations.zip\"\n",
        "\n",
        "# Zip the folder\n",
        "shutil.make_archive(zip_path.replace('.zip', ''), 'zip', folder_path)\n",
        "\n",
        "# Download the zip file\n",
        "files.download(zip_path)"
      ]
    },
    {
      "cell_type": "code",
      "execution_count": null,
      "metadata": {
        "id": "ulKnGlq4kknL"
      },
      "outputs": [],
      "source": []
    }
  ],
  "metadata": {
    "accelerator": "GPU",
    "colab": {
      "gpuType": "T4",
      "provenance": []
    },
    "kernelspec": {
      "display_name": "Python 3",
      "name": "python3"
    },
    "language_info": {
      "codemirror_mode": {
        "name": "ipython",
        "version": 3
      },
      "file_extension": ".py",
      "mimetype": "text/x-python",
      "name": "python",
      "nbconvert_exporter": "python",
      "pygments_lexer": "ipython3",
      "version": "3.12.9"
    }
  },
  "nbformat": 4,
  "nbformat_minor": 0
}
