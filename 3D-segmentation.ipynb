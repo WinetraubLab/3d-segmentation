{
  "cells": [
    {
      "cell_type": "markdown",
      "metadata": {
        "id": "view-in-github",
        "colab_type": "text"
      },
      "source": [
        "<a href=\"https://colab.research.google.com/github/WinetraubLab/3d-segmentation/blob/emilie-8-1-2025/3D-segmentation.ipynb\" target=\"_parent\"><img src=\"https://colab.research.google.com/assets/colab-badge.svg\" alt=\"Open In Colab\"/></a>"
      ]
    },
    {
      "cell_type": "markdown",
      "metadata": {
        "id": "HY9XXRiwOWGR"
      },
      "source": [
        "<a href=\"https://colab.research.google.com/github/WinetraubLab/3D-segmentation/blob/main/3D-segmentation.ipynb\" target=\"_blank\">\n",
        "<img src=\"https://colab.research.google.com/assets/colab-badge.svg\" alt=\"Open in Colab\"/></a>\n",
        "<a href=\"https://github.com/WinetraubLab/3D-segmentation/blob/main/3D-segmentation.ipynb\" target=\"_blank\">\n",
        "  <img src=\"https://img.shields.io/badge/view%20in-GitHub-blue\" alt=\"View in GitHub\"/>\n",
        "</a>\n",
        "\n",
        "#   Segmentation with MedSAM2\n",
        "Use MedSAM2 to automatically detect classes and segment a stack of OCT images.\n",
        "\n",
        "Make sure to use a GPU runtime (T4 on Colab).\n",
        "> **Runtime → Change runtime type → GPU**  \n",
        "\n",
        "INPUTS:\n",
        "1. Folder containing an image sequence of all OCT images and COCO json file downloaded from Roboflow.\n",
        "\n",
        " ** Make sure the very first and last images contain all segmented classes **\n",
        "\n",
        "OUTPUTS:\n",
        "1. A folder containing segmentation mask images for each frame.\n",
        "2. COCO json file of segmentations\n"
      ]
    },
    {
      "cell_type": "markdown",
      "metadata": {
        "id": "XcLPhcv2Zmim"
      },
      "source": [
        "## Setup and Dependencies"
      ]
    },
    {
      "cell_type": "code",
      "execution_count": null,
      "metadata": {
        "cellView": "form",
        "id": "B3L0KrM3OeLO"
      },
      "outputs": [],
      "source": [
        "!git clone -b emilie-8-1-2025 https://github.com/WinetraubLab/3D-segmentation.git\n",
        "!pip install -r 3D-segmentation/requirements.txt"
      ]
    },
    {
      "cell_type": "code",
      "execution_count": null,
      "metadata": {
        "id": "27-_l-GEnQi6"
      },
      "outputs": [],
      "source": [
        "!git clone https://github.com/bowang-lab/MedSAM2.git\n",
        "%cd MedSAM2\n",
        "!sh download.sh"
      ]
    },
    {
      "cell_type": "code",
      "execution_count": null,
      "metadata": {
        "id": "MlxD9TjNPVxX"
      },
      "outputs": [],
      "source": [
        "# @title Configuration and Dataset\n",
        "import os\n",
        "from google.colab import files\n",
        "from google.colab import drive\n",
        "import numpy as np\n",
        "import cv2\n",
        "import shutil\n",
        "from PIL import Image\n",
        "\n",
        "import sys\n",
        "sys.path.append('/content/3D-segmentation')\n",
        "\n",
        "import import_data_from_roboflow, propagate_mask_medsam2, export_coco, analyze_volumes\n",
        "\n",
        "drive.mount('/content/drive')\n",
        "\n",
        "# LOAD SEGMENTATION DATA\n",
        "# @markdown Enter the directory containing your image stack to segment. This folder should also contain a COCO-style annotations JSON file if you are not loading segmentations from a dataset hosted on Roboflow. [Click here](https://docs.google.com/document/d/1jWf6Geef_1qd8TU8pD0xVAMV31jp7ab7GkvzoACwI70) for instructions on how to set up this folder if your data is hosted on Roboflow.\n",
        "image_dataset_and_annotations_folder_path = \"/content/drive/Shareddrives/Yolab - Current Projects/_Datasets/2025-05-10 Automatic Segmentation/OCT_sequence\" # @param {type:\"string\"}\n",
        "\n",
        "if not os.path.isdir(image_dataset_and_annotations_folder_path):\n",
        "    raise NotADirectoryError(f\"‘{image_dataset_and_annotations_folder_path}’ is not a valid directory\")\n",
        "\n",
        "# Load image files and annotations from folder, if provided\n",
        "image_dataset_paths = {\n",
        "    \"json\": [],\n",
        "    \"images\": []\n",
        "}\n",
        "\n",
        "for filename in os.listdir(image_dataset_and_annotations_folder_path):\n",
        "    if os.path.isfile(os.path.join(image_dataset_and_annotations_folder_path, filename)):\n",
        "        if filename.lower().endswith('.json'):\n",
        "            image_dataset_paths[\"json\"].append(filename)\n",
        "        else:\n",
        "            image_dataset_paths[\"images\"].append(filename)\n",
        "\n",
        "assert len(image_dataset_paths['json'])>0, f\"COCO annotation file missing from folder {image_dataset_and_annotations_folder_path}\"\n",
        "assert len(image_dataset_paths['json'])<2, \"You may have multiple annotations files. Please consolidate them into a single file.\"\n",
        "\n",
        "# @markdown If your images are very large (larger than 750x750), enter the factor by which to downsize them. 1 = no downsizing.\n",
        "downsample_factor = 1  # @param {type:\"slider\", min:1, max:10, step:0.5}\n",
        "\n",
        "class_ids = import_data_from_roboflow.init_from_folder(image_dataset_and_annotations_folder_path)\n",
        "\n",
        "MODEL_CONFIG = \"configs/sam2.1_hiera_t512.yaml\"\n",
        "MODEL_CHECKPOINT = \"checkpoints/MedSAM2_latest.pt\""
      ]
    },
    {
      "cell_type": "code",
      "execution_count": null,
      "metadata": {
        "colab": {
          "base_uri": "https://localhost:8080/"
        },
        "id": "jwLhyGnCOWGe",
        "outputId": "c61011a3-afb0-4970-ecf0-46bf340b88eb"
      },
      "outputs": [
        {
          "name": "stderr",
          "output_type": "stream",
          "text": [
            "Flash Attention is disabled as it requires a GPU with Ampere (8.0) CUDA capability.\n",
            "frame loading (JPEG): 100%|██████████| 134/134 [00:01<00:00, 81.51it/s]\n",
            "/content/MedSAM2/sam2/_C.so: undefined symbol: _ZN3c106detail23torchInternalAssertFailEPKcS2_jS2_RKNSt7__cxx1112basic_stringIcSt11char_traitsIcESaIcEEE\n",
            "\n",
            "Skipping the post-processing step due to the error above. You can still use SAM 2 and it's OK to ignore the error above, although some post-processing functionality may be limited (which doesn't affect the results in most cases; see https://github.com/facebookresearch/sam2/blob/main/INSTALL.md).\n",
            "frame loading (JPEG): 100%|██████████| 134/134 [00:01<00:00, 86.20it/s]\n",
            "frame loading (JPEG): 100%|██████████| 134/134 [00:02<00:00, 53.65it/s]\n",
            "frame loading (JPEG): 100%|██████████| 134/134 [00:02<00:00, 57.33it/s]\n",
            "frame loading (JPEG): 100%|██████████| 134/134 [00:01<00:00, 74.34it/s]\n",
            "frame loading (JPEG): 100%|██████████| 134/134 [00:01<00:00, 85.00it/s]\n"
          ]
        }
      ],
      "source": [
        "# @title Initialize and run model\n",
        "\n",
        "# load an image to check size\n",
        "image_files = image_dataset_paths['images']\n",
        "\n",
        "if not image_files:\n",
        "    print(\"Check image_dataset_folder_path: no images found\")\n",
        "else:\n",
        "    image_path = os.path.join(image_dataset_and_annotations_folder_path, image_files[0])\n",
        "    image = Image.open(image_path)\n",
        "    image_array = np.array(image)\n",
        "    downsample_2d_size = np.array(image_array.shape[:2]) // downsample_factor\n",
        "\n",
        "# Preprocess images\n",
        "preprocessed_images_path = \"/content/preprocessed_images/\"\n",
        "import_data_from_roboflow.preprocess_images(image_dataset_and_annotations_folder_path, preprocessed_images_path, downsample_hw_size=downsample_2d_size)\n",
        "\n",
        "# Run model\n",
        "model = propagate_mask_medsam2.CustomMEDSAM2(MODEL_CONFIG, MODEL_CHECKPOINT)\n",
        "\n",
        "indiv_class_masks = []\n",
        "frame_names = import_data_from_roboflow.list_all_images()\n",
        "binary_segmentations = np.empty(len(frame_names), dtype=object)\n",
        "binary_segmentations[:] = None\n",
        "\n",
        "for class_id in class_ids:\n",
        "    # construct segmentations for this class\n",
        "    binary_segmentations = import_data_from_roboflow.create_mask_volume(class_id, downsample_hw_size=downsample_2d_size)\n",
        "    class_mask = model.propagate(preprocessed_images_path, binary_segmentations, sigma_xy=1/downsample_factor, sigma_z=1/downsample_factor)\n",
        "    indiv_class_masks.append(class_mask)\n",
        "\n",
        "# List all classes and ids for user reference in future cells\n",
        "import_data_from_roboflow.get_all_class_name_id()"
      ]
    },
    {
      "cell_type": "code",
      "execution_count": null,
      "metadata": {
        "id": "_qTY3Ctfn0ry"
      },
      "outputs": [],
      "source": [
        "#@title Downsample Z\n",
        "downsampled_indiv_class_masks = []\n",
        "for i in indiv_class_masks:\n",
        "    Z, Y, X = i.shape\n",
        "    new_Z = Z // downsample_factor\n",
        "\n",
        "    # Trim so Z is divisible by 4\n",
        "    trimmed = i[:new_Z * downsample_factor]\n",
        "\n",
        "    # Reshape and average every 4 slices\n",
        "    downsampled_volume = trimmed.reshape(new_Z, downsample_factor, Y, X).mean(axis=1)\n",
        "    downsampled_indiv_class_masks.append(downsampled_volume)\n",
        "\n",
        "indiv_class_masks = downsampled_indiv_class_masks"
      ]
    },
    {
      "cell_type": "code",
      "execution_count": null,
      "metadata": {
        "id": "LcWcvwEQ_S6y"
      },
      "outputs": [],
      "source": [
        "# @title Combine class masks\n",
        "output_dir = \"/content/final_masks/\"\n",
        "propagate_mask_medsam2.combine_class_masks(indiv_class_masks, output_dir=output_dir, show=True)\n",
        "\n",
        "# Save as COCO annotation file\n",
        "export_coco.save_segmentations_as_coco(indiv_class_masks, coco_output_dir=\"predicted_segmentations_coco.json\")\n",
        "files.download(\"predicted_segmentations_coco.json\")\n",
        "# Save TIFF\n",
        "export_coco.coco_to_tiff(\"predicted_segmentations_coco.json\", \"output_volume.tiff\")"
      ]
    },
    {
      "cell_type": "code",
      "execution_count": null,
      "metadata": {
        "colab": {
          "base_uri": "https://localhost:8080/",
          "height": 17
        },
        "id": "Ysu68qJgP5f9",
        "outputId": "864b5d3c-4ad7-4f43-ddf4-00164b380e26"
      },
      "outputs": [
        {
          "data": {
            "application/javascript": "\n    async function download(id, filename, size) {\n      if (!google.colab.kernel.accessAllowed) {\n        return;\n      }\n      const div = document.createElement('div');\n      const label = document.createElement('label');\n      label.textContent = `Downloading \"${filename}\": `;\n      div.appendChild(label);\n      const progress = document.createElement('progress');\n      progress.max = size;\n      div.appendChild(progress);\n      document.body.appendChild(div);\n\n      const buffers = [];\n      let downloaded = 0;\n\n      const channel = await google.colab.kernel.comms.open(id);\n      // Send a message to notify the kernel that we're ready.\n      channel.send({})\n\n      for await (const message of channel.messages) {\n        // Send a message to notify the kernel that we're ready.\n        channel.send({})\n        if (message.buffers) {\n          for (const buffer of message.buffers) {\n            buffers.push(buffer);\n            downloaded += buffer.byteLength;\n            progress.value = downloaded;\n          }\n        }\n      }\n      const blob = new Blob(buffers, {type: 'application/binary'});\n      const a = document.createElement('a');\n      a.href = window.URL.createObjectURL(blob);\n      a.download = filename;\n      div.appendChild(a);\n      a.click();\n      div.remove();\n    }\n  ",
            "text/plain": [
              "<IPython.core.display.Javascript object>"
            ]
          },
          "metadata": {},
          "output_type": "display_data"
        },
        {
          "data": {
            "application/javascript": "download(\"download_9c72bcef-a44b-407f-b61d-ee7cbfb47231\", \"final_masks.zip\", 301129)",
            "text/plain": [
              "<IPython.core.display.Javascript object>"
            ]
          },
          "metadata": {},
          "output_type": "display_data"
        }
      ],
      "source": [
        "shutil.make_archive('/content/final_masks', 'zip', '/content/final_masks')\n",
        "# files.download(\"/content/final_masks.zip\")"
      ]
    },
    {
      "cell_type": "markdown",
      "metadata": {
        "id": "5kt1L1b6kiDL"
      },
      "source": [
        "### Save distance thresholded heatmap\n",
        "The below code generates and downloads a volumetric heatmap that highlights regions of tissue based on their proximity to a segmented class of interest-- in this example, blood vessels.\n",
        "\n",
        "Specifically, this example visualizes areas that are closer than 50 µm or farther than 200 µm from any blood vessel, providing spatial context for proximity-based analysis."
      ]
    },
    {
      "cell_type": "code",
      "execution_count": null,
      "metadata": {
        "id": "raNyx_XcuTrN"
      },
      "outputs": [],
      "source": [
        "heatmap_volume = analyze_volumes.generate_distance_heatmap(indiv_class_masks[0],\n",
        "                          distance_threshold_px_near = int(50/downsample_factor), distance_threshold_px_far = int(200/downsample_factor), overlay=True, show=True,\n",
        "                          output_path=\"/content/distance_threshold_vol.tiff\", use_2d_xy_distances=False)\n",
        "\n",
        "# Save as individual images in a sequence for 3D Viewer\n",
        "os.makedirs(\"/content/heatmap_volume_images\", exist_ok=True)\n",
        "for i,v in enumerate(heatmap_volume):\n",
        "    filename = os.path.join(\"/content/heatmap_volume_images\", f\"{i}.tif\")\n",
        "    v = cv2.cvtColor(v, cv2.COLOR_RGB2BGR)\n",
        "    cv2.imwrite(filename, v)\n",
        "shutil.make_archive('/content/heatmap_volume_images', 'zip', '/content/heatmap_volume_images')\n",
        "# files.download(\"/content/heatmap_volume_images.zip\")\n",
        "\n",
        "# create coco json file of heatmap\n",
        "analyze_volumes.export_near_far_regions_as_coco(\n",
        "    mask_volume=indiv_class_masks[0],\n",
        "    distance_threshold_px_near=int(50/downsample_factor),\n",
        "    distance_threshold_px_far=int(200/downsample_factor),\n",
        "    output_path=\"/content/near_far_regions_coco.json\",\n",
        "    use_2d_xy_distances=False\n",
        ")\n",
        "files.download(\"/content/near_far_regions_coco.json\")"
      ]
    },
    {
      "cell_type": "markdown",
      "metadata": {
        "id": "wBWb03EjkiDL"
      },
      "source": [
        "### Proximity volume between multiple classes\n",
        "The below code generates a volumetric heatmap that highlights regions of tissue based on their proximity to multiple segmented class of interest-- in this example, axon bundles and tumors. Specifically, this example visualizes areas that are closer than 50 µm from both axon bundles and tumors."
      ]
    },
    {
      "cell_type": "code",
      "execution_count": null,
      "metadata": {
        "id": "ulKnGlq4kknL"
      },
      "outputs": [],
      "source": [
        "proximity_volume = analyze_volumes.regions_close_to_object_types(indiv_class_masks[1:], thresh=int(50/downsample_factor))"
      ]
    }
  ],
  "metadata": {
    "colab": {
      "provenance": [],
      "include_colab_link": true
    },
    "kernelspec": {
      "display_name": "Python 3",
      "name": "python3"
    },
    "language_info": {
      "codemirror_mode": {
        "name": "ipython",
        "version": 3
      },
      "file_extension": ".py",
      "mimetype": "text/x-python",
      "name": "python",
      "nbconvert_exporter": "python",
      "pygments_lexer": "ipython3",
      "version": "3.12.9"
    }
  },
  "nbformat": 4,
  "nbformat_minor": 0
}